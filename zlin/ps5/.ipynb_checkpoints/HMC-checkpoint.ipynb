{
 "cells": [
  {
   "cell_type": "code",
   "execution_count": 49,
   "metadata": {},
   "outputs": [],
   "source": [
    "import numpy as np\n",
    "from scipy.stats import multivariate_normal\n",
    "from numpy.linalg import inv\n",
    "from numpy.random import normal\n",
    "from functools import partial\n",
    "# Implement HMC for Q9 of HW5.\n",
    "# Global variable\n",
    "MEAN = np.array([0.0, 0.0])\n",
    "COV_MAT = np.array([[1, 0.998], [0.998, 1]])\n",
    "\n",
    "def U(x):\n",
    "    x = np.array(x)\n",
    "    p_x = multivariate_normal.pdf(x, mean=MEAN, cov=COV_MAT)\n",
    "    return -np.log(p_x)\n",
    "\n",
    "def grad_U(x):\n",
    "    \"\"\"\n",
    "    Return partial derivative dU/dx given x\n",
    "    \"\"\"\n",
    "    x = np.array(x)\n",
    "    return inv(COV_MAT).dot(x)"
   ]
  },
  {
   "cell_type": "code",
   "execution_count": 46,
   "metadata": {
    "collapsed": true
   },
   "outputs": [],
   "source": [
    "def HMC(U, grad_U, epsilon, L, current_x):\n",
    "    x = current_x\n",
    "    p = normal(0, 1)\n",
    "    current_p = p\n",
    "    \n",
    "    # Make a half step for momentum at the beginning\n",
    "    p = p - epsilon * grad_U(q) / 2\n",
    "    # Alternate full steps for position and momentum\n",
    "    for i in range(L):\n",
    "        q = q + epsilon * p\n",
    "    # Make a half step for momentum at the end.\n",
    "    p = p - epsilon * grad_U(q) / 2\n",
    "    # Negate momentum at end of trajectory to make the proposal symmetric\n",
    "    p = -p\n",
    "    \n",
    "    # Evaluate potential and kinetic energies at start and end of trajectory\n",
    "    current_U = U(current_q)\n",
    "    current_K = sum(current_pˆ2) / 2\n",
    "    proposed_U = U(q)\n",
    "    proposed_K = sum(pˆ2) / 2\n",
    "    \n",
    "    # Accept or reject the propossal\n",
    "    if 1<np.exp(current_U-proposed_U+current_K-proposed_K):\n",
    "        return q\n",
    "    else:\n",
    "        return current_q"
   ]
  },
  {
   "cell_type": "code",
   "execution_count": 48,
   "metadata": {
    "collapsed": true
   },
   "outputs": [],
   "source": [
    "my_HMC = partial(HMC, U=U, grad_U=grad_U, epsilon=0.01, L=1)"
   ]
  },
  {
   "cell_type": "code",
   "execution_count": null,
   "metadata": {
    "collapsed": true
   },
   "outputs": [],
   "source": [
    "# Visualization"
   ]
  }
 ],
 "metadata": {
  "kernelspec": {
   "display_name": "Python 3",
   "language": "python",
   "name": "python3"
  },
  "language_info": {
   "codemirror_mode": {
    "name": "ipython",
    "version": 3
   },
   "file_extension": ".py",
   "mimetype": "text/x-python",
   "name": "python",
   "nbconvert_exporter": "python",
   "pygments_lexer": "ipython3",
   "version": "3.6.3"
  }
 },
 "nbformat": 4,
 "nbformat_minor": 2
}
