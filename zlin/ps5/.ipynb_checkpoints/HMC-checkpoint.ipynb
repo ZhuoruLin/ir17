{
 "cells": [
  {
   "cell_type": "code",
   "execution_count": 180,
   "metadata": {
    "collapsed": true
   },
   "outputs": [],
   "source": [
    "import numpy as np\n",
    "from scipy.stats import multivariate_normal\n",
    "from numpy.linalg import inv\n",
    "from numpy.random import normal\n",
    "from functools import partial\n",
    "# Implement HMC for Q9 of HW5.\n",
    "# Global variable\n",
    "MEAN = np.array([0.0, 0.0])\n",
    "COV_MAT = np.array([[1, 0.998], [0.998, 1]])\n",
    "\n",
    "def U(x):\n",
    "    x = np.array(x)\n",
    "    p_x = multivariate_normal.pdf(x, mean=MEAN, cov=COV_MAT)\n",
    "    return -np.log(p_x)\n",
    "\n",
    "def grad_U(x):\n",
    "    \"\"\"\n",
    "    Return partial derivative dU/dx given x\n",
    "    \"\"\"\n",
    "    x = np.array(x)\n",
    "    return inv(COV_MAT).dot(x)"
   ]
  },
  {
   "cell_type": "code",
   "execution_count": 181,
   "metadata": {
    "collapsed": true
   },
   "outputs": [],
   "source": [
    "def HMC(U, grad_U, epsilon, L, current_x):\n",
    "    current_q = current_x\n",
    "    q = current_q\n",
    "    p = normal(0, 1, len(current_q))\n",
    "    current_p = p\n",
    "    \n",
    "    # Make a half step for momentum at the beginning\n",
    "    p = p - epsilon * grad_U(q) / 2\n",
    "    # Alternate full steps for position and momentum\n",
    "    for i in range(L):\n",
    "        q = q + epsilon * p\n",
    "    # Make a half step for momentum at the end.\n",
    "    p = p - epsilon * grad_U(q) / 2\n",
    "    # Negate momentum at end of trajectory to make the proposal symmetric\n",
    "    p = -p\n",
    "    \n",
    "    # Evaluate potential and kinetic energies at start and end of trajectory\n",
    "    current_U = U(current_q)\n",
    "    current_K = sum(current_p**2) / 2\n",
    "    proposed_U = U(q)\n",
    "    proposed_K = sum(p**2) / 2\n",
    "    \n",
    "    # Accept or reject the propossal\n",
    "    if 1<np.exp(current_U-proposed_U+current_K-proposed_K):\n",
    "        return q\n",
    "    else:\n",
    "        return current_q"
   ]
  },
  {
   "cell_type": "code",
   "execution_count": 183,
   "metadata": {
    "collapsed": true
   },
   "outputs": [],
   "source": [
    "def HMC2(findE, gradE, epsilon, L, x):\n",
    "    g = gradE ( x )  # set gradient using initial x\n",
    "    E = findE ( x )\n",
    "    p = normal(0, 1, len(x))\n",
    "    H = p.dot(p) / 2 + E ; # evaluate H(x,p)\n",
    "    xnew = x \n",
    "    gnew = g \n",
    "    for l in range(L): # make Tau `leapfrog' steps\n",
    "        p = p - epsilon * gnew / 2 ; # make half-step in p\n",
    "        xnew = xnew + epsilon * p ; # make step in x\n",
    "        gnew = gradE ( xnew ) ; # find new gradient\n",
    "        p = p - epsilon * gnew / 2 ; # make half-step in p\n",
    "    Enew = findE ( xnew ) ; # find new value of H\n",
    "    Hnew = p.dot(p) / 2 + Enew ;\n",
    "    dH = Hnew - H ; # Decide whether to accept\n",
    "    if ( dH < 0 ):\n",
    "        accept = 1 \n",
    "    elif ( np.random.uniform(0,1) < np.exp(-dH) ):\n",
    "        accept = 1\n",
    "    else:\n",
    "        accept = 0 ;\n",
    "    if accept:\n",
    "        g = gnew \n",
    "        x = xnew \n",
    "        E = Enew \n",
    "    return x"
   ]
  },
  {
   "cell_type": "code",
   "execution_count": 184,
   "metadata": {
    "collapsed": true
   },
   "outputs": [],
   "source": [
    "my_HMC = partial(HMC, U, grad_U, 0.055, 19)\n",
    "my_HMC2 = partial(HMC2, U, grad_U, 0.055, 19)"
   ]
  },
  {
   "cell_type": "code",
   "execution_count": 185,
   "metadata": {
    "collapsed": true
   },
   "outputs": [],
   "source": [
    "# Visualization\n",
    "def get_trajectory(initial_condiction, n_steps, HMC):\n",
    "    trajectory = []\n",
    "    x = np.array(initial_condiction)\n",
    "    for i in range(n_steps):\n",
    "        x = HMC(x)\n",
    "        trajectory.append(x)\n",
    "    return np.stack(trajectory)"
   ]
  },
  {
   "cell_type": "code",
   "execution_count": 186,
   "metadata": {
    "collapsed": true
   },
   "outputs": [],
   "source": [
    "trajectory = get_trajectory(initial_condiction=[0.1,-0.5],n_steps=1000, HMC=my_HMC2)"
   ]
  },
  {
   "cell_type": "code",
   "execution_count": 187,
   "metadata": {
    "collapsed": true
   },
   "outputs": [],
   "source": [
    "import matplotlib.pyplot as plt\n",
    "%matplotlib inline"
   ]
  },
  {
   "cell_type": "code",
   "execution_count": 192,
   "metadata": {
    "collapsed": true
   },
   "outputs": [],
   "source": [
    "def plot_trajectory(trajectory):\n",
    "    x1, x2 = trajectory.T\n",
    "    plot = plt.plot(x1, x2)\n",
    "    plt.title('Trajectory')\n",
    "    return plot"
   ]
  },
  {
   "cell_type": "code",
   "execution_count": 193,
   "metadata": {},
   "outputs": [
    {
     "data": {
      "text/plain": [
       "[<matplotlib.lines.Line2D at 0x1a1ef92518>]"
      ]
     },
     "execution_count": 193,
     "metadata": {},
     "output_type": "execute_result"
    },
    {
     "data": {
      "image/png": "[encoded data removed]",
      "text/plain": [
       "<matplotlib.figure.Figure at 0x1a1ec9a390>"
      ]
     },
     "metadata": {},
     "output_type": "display_data"
    }
   ],
   "source": [
    "plot_trajectory(trajectory)"
   ]
  }
 ],
 "metadata": {
  "kernelspec": {
   "display_name": "Python 3",
   "language": "python",
   "name": "python3"
  },
  "language_info": {
   "codemirror_mode": {
    "name": "ipython",
    "version": 3
   },
   "file_extension": ".py",
   "mimetype": "text/x-python",
   "name": "python",
   "nbconvert_exporter": "python",
   "pygments_lexer": "ipython3",
   "version": "3.6.3"
  }
 },
 "nbformat": 4,
 "nbformat_minor": 2
}
