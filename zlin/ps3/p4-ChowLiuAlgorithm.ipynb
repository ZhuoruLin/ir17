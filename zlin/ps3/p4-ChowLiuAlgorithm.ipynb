{
 "cells": [
  {
   "cell_type": "code",
   "execution_count": 151,
   "metadata": {
    "collapsed": true
   },
   "outputs": [],
   "source": [
    "import pandas as pd\n",
    "import numpy as np\n",
    "from itertools import combinations, product\n",
    "from progressbar import ProgressBar"
   ]
  },
  {
   "cell_type": "code",
   "execution_count": 148,
   "metadata": {
    "collapsed": true
   },
   "outputs": [],
   "source": [
    "# load data\n",
    "occurence = np.loadtxt('./data/chowliu-input.txt')\n",
    "names = np.loadtxt('./data/names.txt',dtype=str)"
   ]
  },
  {
   "cell_type": "code",
   "execution_count": 152,
   "metadata": {
    "collapsed": true
   },
   "outputs": [],
   "source": [
    "def calculate_empirical_coocurence_probability(occurence):\n",
    "    n_records, n_classes = occurence.shape\n",
    "    matrix_11 = np.zeros((n_classes, n_classes))\n",
    "    matrix_00 = np.zeros((n_classes, n_classes))\n",
    "    matrix_10 = np.zeros((n_classes, n_classes))\n",
    "    matrix_01 = np.zeros((n_classes, n_classes))\n",
    "    bar = ProgressBar()\n",
    "    for row in bar(occurence):\n",
    "        idx_1 = np.where(row==1)[0]\n",
    "        idx_0 = np.where(row==0)[0]\n",
    "        idx_11 = combinations(idx_1, 2)\n",
    "        idx_00 = combinations(idx_0, 2)\n",
    "        idx_10 = product(idx_1, idx_0)\n",
    "        idx_01 = product(idx_0, idx_1)\n",
    "        for idx in idx_11:\n",
    "            matrix_11[idx]+=1\n",
    "        for idx in idx_00:\n",
    "            matrix_00[idx]+=1\n",
    "        for idx in idx_10:\n",
    "            matrix_10[idx]+=1\n",
    "        for idx in idx_01:\n",
    "            matrix_01[idx]+=1\n",
    "            \n",
    "    return matrix_11/n_records, matrix_00/n_records, matrix_10/n_records, matrix_01/n_records\n",
    "\n",
    "def calculate_empirical_marginal_probability(occurence):\n",
    "    return occurence.mean(0), 1-occurence.mean(0)\n",
    "\n",
    "def calculate_mutial_information(occurence):\n",
    "    n_records, n_classes = occurence.shape\n",
    "    mutial_information_matrix = np.zeros((n_classes, n_classes))\n",
    "    prob_11, prob_00, prob_10, prob_01 = calculate_empirical_coocurence_probability(occurence)\n",
    "    prob_1, prob_0 = calculate_empirical_marginal_probability(occurence)\n",
    "    all_idx = combinations(np.arange(n_classes), 2)\n",
    "    for i,j in all_idx:\n",
    "        mutial_information_matrix[i,j]+=prob_11[i,j]*np.log(prob_11[i,j]/(prob_1[i]*prob_1[j]))\n",
    "        mutial_information_matrix[i,j]+=prob_00[i,j]*np.log(prob_00[i,j]/(prob_0[i]*prob_0[j]))\n",
    "        mutial_information_matrix[i,j]+=prob_10[i,j]*np.log(prob_10[i,j]/(prob_1[i]*prob_0[j]))\n",
    "        mutial_information_matrix[i,j]+=prob_01[i,j]*np.log(prob_01[i,j]/(prob_0[i]*prob_1[j]))\n",
    "    return np.nan_to_num(mutial_information_matrix)"
   ]
  },
  {
   "cell_type": "code",
   "execution_count": 183,
   "metadata": {},
   "outputs": [
    {
     "name": "stderr",
     "output_type": "stream",
     "text": [
      "100% (4367 of 4367) |#####################| Elapsed Time: 0:00:15 Time: 0:00:15\n",
      "/Users/zhuorulin/anaconda3/lib/python3.6/site-packages/ipykernel_launcher.py:8: RuntimeWarning: divide by zero encountered in log\n",
      "  \n",
      "/Users/zhuorulin/anaconda3/lib/python3.6/site-packages/ipykernel_launcher.py:8: RuntimeWarning: invalid value encountered in double_scalars\n",
      "  \n",
      "/Users/zhuorulin/anaconda3/lib/python3.6/site-packages/ipykernel_launcher.py:10: RuntimeWarning: divide by zero encountered in log\n",
      "  # Remove the CWD from sys.path while we load stuff.\n",
      "/Users/zhuorulin/anaconda3/lib/python3.6/site-packages/ipykernel_launcher.py:10: RuntimeWarning: invalid value encountered in double_scalars\n",
      "  # Remove the CWD from sys.path while we load stuff.\n"
     ]
    }
   ],
   "source": [
    "mutial_information_matrix = calculate_mutial_information(occurence)"
   ]
  },
  {
   "cell_type": "code",
   "execution_count": 187,
   "metadata": {
    "collapsed": true
   },
   "outputs": [],
   "source": [
    "from scipy.sparse import csr_matrix\n",
    "from scipy.sparse.csgraph import minimum_spanning_tree"
   ]
  },
  {
   "cell_type": "code",
   "execution_count": 218,
   "metadata": {
    "collapsed": true
   },
   "outputs": [],
   "source": [
    "def get_tree_edges_from_mutual_information(mutial_information_matrix):\n",
    "    neg_mut_info_csr = csr_matrix(-mutial_information_matrix)\n",
    "    mstree_adj = minimum_spanning_tree(neg_mut_info_csr).todense()\n",
    "    return [edge for edge in zip(*np.where(mstree_adj<0))]\n",
    "\n",
    "def calculate_edge_potential(edges, occurence,name=None):\n",
    "    prob_11, prob_00, prob_10, prob_01 = calculate_empirical_coocurence_probability(occurence)\n",
    "    prob_1, prob_0 = calculate_empirical_marginal_probability(occurence)\n",
    "    pot_dict = {}\n",
    "    for edge in edges:\n",
    "        if name is None:\n",
    "            key = edge\n",
    "        else:\n",
    "            key = '--'.join(name[np.array(edge)])\n",
    "        i,j = edge\n",
    "        pot_11 =prob_11[i,j]/(prob_1[i]*prob_1[j])\n",
    "        pot_00 =prob_00[i,j]/(prob_0[i]*prob_0[j])\n",
    "        pot_10 =prob_10[i,j]/(prob_1[i]*prob_0[j])\n",
    "        pot_01 =prob_01[i,j]/(prob_0[i]*prob_1[j])\n",
    "        pot_dict[key] = np.array([[pot_00, pot_01], [pot_10, pot_11]])\n",
    "    return pot_dict\n",
    "\n",
    "def calculate_node_potentials(occurence):\n",
    "    prob_1, prob_0 = calculate_empirical_marginal_probability(occurence)\n",
    "    return np.stack([prob_0, prob_1]).T"
   ]
  },
  {
   "cell_type": "code",
   "execution_count": 241,
   "metadata": {},
   "outputs": [
    {
     "name": "stderr",
     "output_type": "stream",
     "text": [
      "100% (4367 of 4367) |#####################| Elapsed Time: 0:00:15 Time: 0:00:15\n"
     ]
    }
   ],
   "source": [
    "edges = get_tree_edges_from_mutual_information(mutial_information_matrix)\n",
    "edge_potential = calculate_edge_potential(edges, occurence)"
   ]
  },
  {
   "cell_type": "code",
   "execution_count": 252,
   "metadata": {
    "collapsed": true
   },
   "outputs": [],
   "source": [
    "node_potential = calculate_node_potentials(occurence)"
   ]
  },
  {
   "cell_type": "code",
   "execution_count": 260,
   "metadata": {
    "collapsed": true
   },
   "outputs": [],
   "source": [
    "def get_uai_str(edges, node_potentials, edge_potentials):\n",
    "    num_vars = node_potentials.shape[0]\n",
    "    network_type = 'MARKOV'\n",
    "    num_vars_str = str(num_vars)\n",
    "    var_cardinals = ' '.join(['2']*num_vars)\n",
    "    num_cliques = str(len(edges))\n",
    "    edge_cliques = [' '.join(['2', str(i), str(j)]) for i, j in edges]\n",
    "    preamble = ([network_type, num_vars_str, var_cardinals, num_cliques]+ edge_cliques)\n",
    "    function_tables = []\n",
    "    # node potentials\n",
    "    for i in range(num_vars):\n",
    "        prob_str = ' '.join([' ', str(node_potentials[i][0]), str(node_potentials[i][1])])\n",
    "        function_tables += ['', '2', prob_str]\n",
    "    # edge potentials\n",
    "    for i, j in edges:\n",
    "        prob00 = edge_potentials[(i,j)][0][0]\n",
    "        prob01 = edge_potentials[(i,j)][0][1]\n",
    "        prob_str1 = ' '.join([' ', str(prob00), str(prob01)])\n",
    "        prob10 = edge_potentials[(i,j)][1][0]\n",
    "        prob11 = edge_potentials[(i,j)][1][1]\n",
    "        prob_str2 = ' '.join([' ', str(prob10), str(prob11)])\n",
    "        function_tables += ['', '4', prob_str1, prob_str2]\n",
    "    return '\\n'.join(preamble + function_tables + [''])"
   ]
  },
  {
   "cell_type": "code",
   "execution_count": 261,
   "metadata": {
    "collapsed": true
   },
   "outputs": [],
   "source": [
    "uai_str = get_uai_str(edges, node_potential, edge_potential)"
   ]
  },
  {
   "cell_type": "code",
   "execution_count": 259,
   "metadata": {
    "collapsed": true
   },
   "outputs": [],
   "source": [
    "# Output\n",
    "with open ('p4.uai', 'w') as f:\n",
    "    f.write(uai_str)"
   ]
  }
 ],
 "metadata": {
  "kernelspec": {
   "display_name": "Python 3",
   "language": "python",
   "name": "python3"
  },
  "language_info": {
   "codemirror_mode": {
    "name": "ipython",
    "version": 3
   },
   "file_extension": ".py",
   "mimetype": "text/x-python",
   "name": "python",
   "nbconvert_exporter": "python",
   "pygments_lexer": "ipython3",
   "version": "3.6.2"
  }
 },
 "nbformat": 4,
 "nbformat_minor": 2
}
