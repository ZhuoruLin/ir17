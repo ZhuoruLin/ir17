{
 "cells": [
  {
   "cell_type": "markdown",
   "metadata": {},
   "source": [
    "PS 3 - Question 2 <br>\n",
    "Inference and  Representation<br>\n",
    "NYU Center for Data Science<br>\n",
    "October 3, 2017\n",
    "\n",
    "It is a Python adaptation of the Matlab code provided in Brown University CS242 Homework 1:\n",
    "http://cs.brown.edu/courses/cs242/assignments/\n",
    "The factor graph library (fglib) is a Python 3 package to simulate message passing on factor graphs: https://github.com/danbar/fglib"
   ]
  },
  {
   "cell_type": "code",
   "execution_count": 1,
   "metadata": {
    "collapsed": true
   },
   "outputs": [],
   "source": [
    "import numpy as np \n",
    "import networkx as nx\n",
    "from fglib import graphs, nodes, rv, inference\n",
    "import progressbar\n",
    "from collections import OrderedDict\n",
    "\n",
    "def make_debug_graph():\n",
    "\n",
    "    # Create factor graph\n",
    "    fg = graphs.FactorGraph()\n",
    "\n",
    "    # Create variable nodes\n",
    "    x1 = nodes.VNode(\"x1\")\n",
    "    x2 = nodes.VNode(\"x2\")\n",
    "    x3 = nodes.VNode(\"x3\")\n",
    "    x4 = nodes.VNode(\"x4\")\n",
    "\n",
    "    # Create factor nodes\n",
    "    f12 = nodes.FNode(\"f12\")\n",
    "    f234 = nodes.FNode(\"f234\")\n",
    "    f3 = nodes.FNode(\"f3\")\n",
    "    f4 = nodes.FNode(\"f4\")\n",
    "\n",
    "    # Add nodes to factor graph\n",
    "    fg.set_nodes([x1, x2, x3, x4])\n",
    "    fg.set_nodes([f12, f234, f3,f4 ])\n",
    "\n",
    "    # Add edges to factor graph\n",
    "    fg.set_edge(x1, f12)\n",
    "    fg.set_edge(f12, x2)\n",
    "    fg.set_edge(x2, f234)\n",
    "    fg.set_edge(f234, x3)\n",
    "    fg.set_edge(f234, x4)\n",
    "    fg.set_edge(x3, f3)\n",
    "    fg.set_edge(x4, f4)\n",
    "\n",
    "    #add potential for f_3: p(x3)\n",
    "    dist_f3 = [0.5, 0.5]\n",
    "    f3.factor = rv.Discrete(dist_f3,x3)\n",
    "    \n",
    "    #add potential for f_4: p(x4)\n",
    "    dist_f4 = [0.4,0.6]\n",
    "    f4.factor = rv.Discrete(dist_f4,x4)\n",
    "    \n",
    "    # add potential for f_{234}: p(x2, x3, x4) = p(x2|x3,x4) p(x3,x4)\n",
    "    px3x4=np.outer(dist_f3,dist_f4)\n",
    "    px3x4=np.reshape(px3x4, np.shape(px3x4)+(1,))\n",
    "    px2_conditioned_x3x4=[[[0.2,0.8],\n",
    "                         [0.25,0.75],],\n",
    "                         [[0.7,0.3],\n",
    "                         [0.3,0.7]]]\n",
    "    \n",
    "    dist_f234 =px3x4*px2_conditioned_x3x4\n",
    "    f234.factor = rv.Discrete(dist_f234,x3,x4,x2)\n",
    "   \n",
    "    # add potential for f_{12}:  p (x1,x2) = p(x1 | x2) p(x2)\n",
    "    px1_conditioned_x2 = [[0.5,0.5],\n",
    "                         [0.7,0.3]]\n",
    "    px2= np.sum(dist_f234, axis=(0,1))\n",
    "    dist_f12 =px2[:,np.newaxis]*px1_conditioned_x2\n",
    "    f12.factor = rv.Discrete(dist_f12,x2,x1)\n",
    "    # Perform sum-product algorithm on factor graph\n",
    "    # and request belief of variable node x1\n",
    "    #belief = inference.sum_product(fg, x3)\n",
    "    return (fg)\n"
   ]
  },
  {
   "cell_type": "code",
   "execution_count": 2,
   "metadata": {
    "collapsed": true
   },
   "outputs": [],
   "source": [
    "# Update belief given a edge visiting schedule\n",
    "def schedule_propagation(schedule, graph):\n",
    "    '''\n",
    "    schedule: list of edges (in tuple form)parralel_update\n",
    "    '''\n",
    "    for node_origin, node_destination in schedule:\n",
    "        # Get fglib edge object\n",
    "        edge = graph.get_edge_data(node_origin, node_destination)['object']\n",
    "        # get message using sum-product algorithm\n",
    "        #print('%s --> %s'%(node_origin, node_destination))\n",
    "        message = node_origin.spa(node_destination).normalize()\n",
    "        # set message\n",
    "        edge.set_message(node_origin,node_destination,message)\n",
    "    return \n",
    "\n",
    "def get_beliefs(fg, n_iteration=10, parallel_update=True):\n",
    "    # If acyclic use depth first search to generate a efficient schedule\n",
    "    if not parallel_update:\n",
    "        root_node = list(fg.get_vnodes())[0]\n",
    "        root2leaf = list(nx.depth_first_search.dfs_edges(fg, root_node))\n",
    "        leaf2root = [(v,u) for u,v in reversed(root2leaf)]\n",
    "        schedule_propagation(leaf2root, fg)\n",
    "        schedule_propagation(root2leaf, fg)\n",
    "        \n",
    "    # Otherwise, use iterative updating (Loopy propagation)\n",
    "    else:\n",
    "        fnodes = fg.get_fnodes()\n",
    "        vnodes = fg.get_vnodes()\n",
    "        nodes_sequence = fnodes + vnodes\n",
    "        schedule = [(node, neighbor) for node in nodes_sequence for neighbor in node.neighbors()]\n",
    "        print(['%s-->%s'%(u,v) for u,v in schedule])\n",
    "        bar = progressbar.ProgressBar()\n",
    "        #print('Iterating')\n",
    "        for i in bar(range(n_iteration)):\n",
    "            schedule_propagation(schedule, fg)\n",
    "            \n",
    "    # Generate the belief of every vnodes\n",
    "    output_items = []\n",
    "    for vnode in fg.get_vnodes():\n",
    "        output_items.append((str(vnode), vnode.belief().pmf))\n",
    "    output_dict = OrderedDict(output_items)\n",
    "    return output_dict"
   ]
  },
  {
   "cell_type": "code",
   "execution_count": 3,
   "metadata": {
    "collapsed": true
   },
   "outputs": [],
   "source": [
    "def initialize_all_v_to_f_msgs(fg):\n",
    "    all_edges = fg.edges()\n",
    "    print('Initialized following messege')\n",
    "    for snode, tnode in all_edges:\n",
    "        edge_object = fg.get_edge_data(snode, tnode)['object']\n",
    "        if type(snode)== nodes.NodeType.variable_node:\n",
    "            print('%s-->%s'%(tnode, snode))\n",
    "            edge_object.set_message(tnode, snode, rv.Discrete(np.array([1, 1]), tnode))\n",
    "        else:\n",
    "            print('%s-->%s'%(snode, tnode))\n",
    "            edge_object.set_message(snode, tnode, rv.Discrete(np.array([1, 1]), snode))\n",
    "    return"
   ]
  },
  {
   "cell_type": "code",
   "execution_count": 4,
   "metadata": {},
   "outputs": [
    {
     "name": "stdout",
     "output_type": "stream",
     "text": [
      "Initialized following messege\n",
      "x1-->f12\n",
      "x2-->f12\n",
      "x2-->f234\n",
      "x3-->f234\n",
      "x3-->f3\n",
      "x4-->f234\n",
      "x4-->f4\n"
     ]
    }
   ],
   "source": [
    "fg = make_debug_graph()\n",
    "initialize_all_v_to_f_msgs(fg)\n",
    "node_dict = dict([(str(node), node) for node in fg.nodes()])"
   ]
  },
  {
   "cell_type": "code",
   "execution_count": 5,
   "metadata": {},
   "outputs": [
    {
     "name": "stderr",
     "output_type": "stream",
     "text": [
      "100% (10 of 10) |#########################| Elapsed Time: 0:00:00 Time: 0:00:00\n"
     ]
    },
    {
     "name": "stdout",
     "output_type": "stream",
     "text": [
      "['f12-->x1', 'f12-->x2', 'f234-->x2', 'f234-->x3', 'f234-->x4', 'f3-->x3', 'f4-->x4', 'x1-->f12', 'x2-->f12', 'x2-->f234', 'x3-->f234', 'x3-->f3', 'x4-->f234', 'x4-->f4']\n",
      "Belief of variable nodes \n",
      "OrderedDict([('x1', array([ 0.65897284,  0.34102716])), ('x2', array([ 0.20513578,  0.79486422])), ('x3', array([ 0.52640912,  0.47359088])), ('x4', array([ 0.28679718,  0.71320282]))])\n"
     ]
    }
   ],
   "source": [
    "beliefs = get_beliefs(fg)\n",
    "# Print belief of variable nodes\n",
    "print(\"Belief of variable nodes \")\n",
    "print(beliefs)"
   ]
  },
  {
   "cell_type": "code",
   "execution_count": 6,
   "metadata": {
    "collapsed": true
   },
   "outputs": [],
   "source": [
    "# Result reporting using pandas to latex\n",
    "import pandas as pd"
   ]
  },
  {
   "cell_type": "code",
   "execution_count": 10,
   "metadata": {},
   "outputs": [
    {
     "name": "stdout",
     "output_type": "stream",
     "text": [
      "\\begin{tabular}{lrr}\n",
      "\\toprule\n",
      "{} &         0 &         1 \\\\\n",
      "\\midrule\n",
      "x1 &  0.658973 &  0.341027 \\\\\n",
      "x2 &  0.205136 &  0.794864 \\\\\n",
      "x3 &  0.526409 &  0.473591 \\\\\n",
      "x4 &  0.286797 &  0.713203 \\\\\n",
      "\\bottomrule\n",
      "\\end{tabular}\n",
      "\n"
     ]
    }
   ],
   "source": [
    "print(pd.DataFrame.from_dict(beliefs).T.to_latex())"
   ]
  },
  {
   "cell_type": "markdown",
   "metadata": {},
   "source": [
    "  "
   ]
  }
 ],
 "metadata": {
  "anaconda-cloud": {},
  "celltoolbar": "Raw Cell Format",
  "kernelspec": {
   "display_name": "Python 3",
   "language": "python",
   "name": "python3"
  },
  "language_info": {
   "codemirror_mode": {
    "name": "ipython",
    "version": 3
   },
   "file_extension": ".py",
   "mimetype": "text/x-python",
   "name": "python",
   "nbconvert_exporter": "python",
   "pygments_lexer": "ipython3",
   "version": "3.6.3"
  }
 },
 "nbformat": 4,
 "nbformat_minor": 1
}
