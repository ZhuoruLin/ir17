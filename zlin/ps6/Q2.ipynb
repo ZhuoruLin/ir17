{
 "cells": [
  {
   "cell_type": "code",
   "execution_count": 1,
   "metadata": {
    "collapsed": true
   },
   "outputs": [],
   "source": [
    "import fglib\n",
    "from fglib import graphs, nodes, inference, rv\n",
    "import networkx as nx"
   ]
  },
  {
   "cell_type": "markdown",
   "metadata": {},
   "source": [
    "# Construct graph"
   ]
  },
  {
   "cell_type": "code",
   "execution_count": 3,
   "metadata": {},
   "outputs": [
    {
     "name": "stdout",
     "output_type": "stream",
     "text": [
      "1.0\n",
      "[('X1', 0), ('X2', 1), ('X5', 1), ('X6', 1), ('X3', 1), ('X4', 1)]\n"
     ]
    }
   ],
   "source": [
    "fg = graphs.FactorGraph()\n",
    "\n",
    "###### Construct Graph\n",
    "x1 = nodes.VNode('X1', rv.Discrete)\n",
    "x2 = nodes.VNode('X2', rv.Discrete)\n",
    "x3 = nodes.VNode('X3', rv.Discrete)\n",
    "x4 = nodes.VNode('X4', rv.Discrete)\n",
    "x5 = nodes.VNode('X5', rv.Discrete)\n",
    "x6 = nodes.VNode('X6', rv.Discrete)\n",
    "\n",
    "# Priors \n",
    "f1 = nodes.FNode('f1', rv.Discrete([2,1], x1))\n",
    "f2 = nodes.FNode('f1', rv.Discrete([2,1], x1))\n",
    "f3 = nodes.FNode('f1', rv.Discrete([2,1], x1))\n",
    "f4 = nodes.FNode('f1', rv.Discrete([2,1], x1))\n",
    "f5 = nodes.FNode('f1', rv.Discrete([2,1], x1))\n",
    "f6 = nodes.FNode('f1', rv.Discrete([2,1], x1))\n",
    "\n",
    "# Factors\n",
    "f12 = nodes.FNode('f12', rv.Discrete([[1,2],[3,4]], x1, x2))\n",
    "f13 = nodes.FNode('f13', rv.Discrete([[1,2],[3,4]], x1, x3))\n",
    "f14 = nodes.FNode('f14', rv.Discrete([[1,2],[3,4]], x1, x4))\n",
    "f25 = nodes.FNode('f25', rv.Discrete([[1,2],[3,4]], x2, x5))\n",
    "f26 = nodes.FNode('f26', rv.Discrete([[1,2],[3,4]], x2, x6))\n",
    "\n",
    "fg.set_nodes([x1,x2,x3,x4,x5,x6])\n",
    "fg.set_nodes([f1,f2,f3,f4,f5,f6,\n",
    "              f12,f13,f14,f25,f26])\n",
    "\n",
    "# Edges\n",
    "fg.set_edge(f1, x1)\n",
    "fg.set_edge(f2, x2)\n",
    "fg.set_edge(f3, x3)\n",
    "fg.set_edge(f4, x4)\n",
    "fg.set_edge(f5, x5)\n",
    "fg.set_edge(f6, x6)\n",
    "fg.set_edge(x1, f12)\n",
    "fg.set_edge(f12, x2)\n",
    "fg.set_edge(x1, f13)\n",
    "fg.set_edge(f13, x3)\n",
    "fg.set_edge(x1, f14)\n",
    "fg.set_edge(f14, x4)\n",
    "fg.set_edge(x2, f25)\n",
    "fg.set_edge(f25, x5)\n",
    "fg.set_edge(x2, f26)\n",
    "fg.set_edge(f26, x6)\n",
    "\n",
    "prob, node_result = inference.max_sum(fg ,x1)\n",
    "maxsum_result = [(str(node), value) for node,value in node_result.items()]\n",
    "print(prob)\n",
    "print(maxsum_result)"
   ]
  },
  {
   "cell_type": "code",
   "execution_count": null,
   "metadata": {
    "collapsed": true
   },
   "outputs": [],
   "source": []
  }
 ],
 "metadata": {
  "kernelspec": {
   "display_name": "Python 3",
   "language": "python",
   "name": "python3"
  },
  "language_info": {
   "codemirror_mode": {
    "name": "ipython",
    "version": 3
   },
   "file_extension": ".py",
   "mimetype": "text/x-python",
   "name": "python",
   "nbconvert_exporter": "python",
   "pygments_lexer": "ipython3",
   "version": "3.6.3"
  }
 },
 "nbformat": 4,
 "nbformat_minor": 2
}
