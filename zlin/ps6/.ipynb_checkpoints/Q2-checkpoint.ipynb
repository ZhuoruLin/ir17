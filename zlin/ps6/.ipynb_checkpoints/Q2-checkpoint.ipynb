{
 "cells": [
  {
   "cell_type": "code",
   "execution_count": 4,
   "metadata": {},
   "outputs": [],
   "source": [
    "import fglib\n",
    "from fglib import graphs, nodes, inference, rv"
   ]
  },
  {
   "cell_type": "markdown",
   "metadata": {},
   "source": [
    "# Construct graph"
   ]
  },
  {
   "cell_type": "code",
   "execution_count": 5,
   "metadata": {},
   "outputs": [],
   "source": [
    "fg = graphs.FactorGraph()"
   ]
  },
  {
   "cell_type": "code",
   "execution_count": 46,
   "metadata": {
    "collapsed": true
   },
   "outputs": [],
   "source": [
    "###### Construct Graph\n",
    "x1 = nodes.VNode('X1', rv.Discrete)\n",
    "x2 = nodes.VNode('X2', rv.Discrete)\n",
    "x3 = nodes.VNode('X3', rv.Discrete)\n",
    "x4 = nodes.VNode('X4', rv.Discrete)\n",
    "x5 = nodes.VNode('X5', rv.Discrete)\n",
    "x6 = nodes.VNode('X6', rv.Discrete)\n",
    "\n",
    "# Priors \n",
    "f1 = nodes.FNode('f1', rv.Discrete([2,1], x1))\n",
    "f2 = nodes.FNode('f1', rv.Discrete([2,1], x1))\n",
    "f3 = nodes.FNode('f1', rv.Discrete([2,1], x1))\n",
    "f4 = nodes.FNode('f1', rv.Discrete([2,1], x1))\n",
    "f5 = nodes.FNode('f1', rv.Discrete([2,1], x1))\n",
    "f6 = nodes.FNode('f1', rv.Discrete([2,1], x1))\n",
    "\n",
    "# Factors\n",
    "f12 = nodes.FNode('f12', rv.Discrete([[1,2],[3,4]], x1, x2))\n",
    "f13 = nodes.FNode('f13', rv.Discrete([[1,2],[3,4]], x1, x3))\n",
    "f14 = nodes.FNode('f14', rv.Discrete([[1,2],[3,4]], x1, x4))\n",
    "f25 = nodes.FNode('f25', rv.Discrete([[1,2],[3,4]], x2, x5))\n",
    "f26 = nodes.FNode('f26', rv.Discrete([[1,2],[3,4]], x2, x6))\n",
    "\n",
    "fg.set_nodes([x1,x2,x3,x4,x5,x6])\n",
    "fg.set_nodes([f1,f2,f3,f4,f5,f6,f12,f13,f14,f25,f26])\n",
    "\n",
    "# Edges\n",
    "fg.set_edge(f1, x1)\n",
    "fg.set_edge(f2, x2)\n",
    "fg.set_edge(f3, x3)\n",
    "fg.set_edge(f4, x4)\n",
    "fg.set_edge(f5, x5)\n",
    "fg.set_edge(f6, x6)\n",
    "fg.set_edge(x1, f12)\n",
    "fg.set_edge(f12, x2)\n",
    "fg.set_edge(x1, f13)\n",
    "fg.set_edge(f13, x3)\n",
    "fg.set_edge(x1, f14)\n",
    "fg.set_edge(f14, x4)\n",
    "fg.set_edge(x2, f25)\n",
    "fg.set_edge(f25, x5)\n",
    "fg.set_edge(x2, f26)\n",
    "fg.set_edge(f26, x6)"
   ]
  },
  {
   "cell_type": "code",
   "execution_count": null,
   "metadata": {
    "collapsed": true
   },
   "outputs": [],
   "source": [
    "def max_sum(graph, query_node):\n",
    "    \"\"\"Max-sum algorithm.\n",
    "    Compute setting of variable for maximum probability on graphs\n",
    "    that are tree structured.\n",
    "    Return the setting of all query_nodes.\n",
    "    \"\"\"\n",
    "    track = {}  # Setting of variables\n",
    "\n",
    "    # Depth First Search to determine edges\n",
    "    dfs = nx.dfs_edges(graph, query_node)\n",
    "\n",
    "    # Convert tuple to reversed list\n",
    "    backward_path = list(dfs)\n",
    "    forward_path = reversed(backward_path)\n",
    "\n",
    "    # Messages in forward phase\n",
    "    for (v, u) in forward_path:  # Edge direction: u -> v\n",
    "        msg = u.msa(v)\n",
    "        graph[u][v]['object'].set_message(u, v, msg)\n",
    "\n",
    "    # Messages in backward phase\n",
    "    for (u, v) in backward_path:  # Edge direction: u -> v\n",
    "        msg = u.msa(v)\n",
    "        graph[u][v]['object'].set_message(u, v, msg)\n",
    "\n",
    "    # Maximum argument for query node\n",
    "    track[query_node] = query_node.argmax()\n",
    "\n",
    "    # Back-tracking\n",
    "    for (u, v) in backward_path:  # Edge direction: u -> v\n",
    "        if v.type == nodes.NodeType.factor_node:\n",
    "            for k in v.record[u].keys():  # Iterate over outgoing edges\n",
    "                track[k] = v.record[u][k]\n",
    "\n",
    "    # Return maximum probability for query node and setting of variable\n",
    "    return query_node.maximum(), track"
   ]
  },
  {
   "cell_type": "code",
   "execution_count": 50,
   "metadata": {},
   "outputs": [
    {
     "ename": "TypeError",
     "evalue": "msa() takes 2 positional arguments but 3 were given",
     "output_type": "error",
     "traceback": [
      "\u001b[0;31m---------------------------------------------------------------------------\u001b[0m",
      "\u001b[0;31mTypeError\u001b[0m                                 Traceback (most recent call last)",
      "\u001b[0;32m<ipython-input-50-41dfe9615fa0>\u001b[0m in \u001b[0;36m<module>\u001b[0;34m()\u001b[0m\n\u001b[0;32m----> 1\u001b[0;31m \u001b[0minference\u001b[0m\u001b[0;34m.\u001b[0m\u001b[0mmax_sum\u001b[0m\u001b[0;34m(\u001b[0m\u001b[0mfg\u001b[0m\u001b[0;34m,\u001b[0m \u001b[0mx1\u001b[0m\u001b[0;34m)\u001b[0m\u001b[0;34m\u001b[0m\u001b[0m\n\u001b[0m",
      "\u001b[0;32m~/anaconda3/envs/py36/lib/python3.6/site-packages/fglib/inference.py\u001b[0m in \u001b[0;36mmax_sum\u001b[0;34m(model, query_node)\u001b[0m\n\u001b[1;32m    129\u001b[0m     \u001b[0;31m# Messages in forward phase\u001b[0m\u001b[0;34m\u001b[0m\u001b[0;34m\u001b[0m\u001b[0m\n\u001b[1;32m    130\u001b[0m     \u001b[0;32mfor\u001b[0m \u001b[0;34m(\u001b[0m\u001b[0mv\u001b[0m\u001b[0;34m,\u001b[0m \u001b[0mu\u001b[0m\u001b[0;34m)\u001b[0m \u001b[0;32min\u001b[0m \u001b[0mforward_path\u001b[0m\u001b[0;34m:\u001b[0m  \u001b[0;31m# Edge direction: u -> v\u001b[0m\u001b[0;34m\u001b[0m\u001b[0m\n\u001b[0;32m--> 131\u001b[0;31m         \u001b[0mmsg\u001b[0m \u001b[0;34m=\u001b[0m \u001b[0mu\u001b[0m\u001b[0;34m.\u001b[0m\u001b[0mmsa\u001b[0m\u001b[0;34m(\u001b[0m\u001b[0mmodel\u001b[0m\u001b[0;34m,\u001b[0m \u001b[0mv\u001b[0m\u001b[0;34m)\u001b[0m\u001b[0;34m\u001b[0m\u001b[0m\n\u001b[0m\u001b[1;32m    132\u001b[0m         \u001b[0mmodel\u001b[0m\u001b[0;34m[\u001b[0m\u001b[0mu\u001b[0m\u001b[0;34m]\u001b[0m\u001b[0;34m[\u001b[0m\u001b[0mv\u001b[0m\u001b[0;34m]\u001b[0m\u001b[0;34m[\u001b[0m\u001b[0;34m'object'\u001b[0m\u001b[0;34m]\u001b[0m\u001b[0;34m.\u001b[0m\u001b[0mset_message\u001b[0m\u001b[0;34m(\u001b[0m\u001b[0mu\u001b[0m\u001b[0;34m,\u001b[0m \u001b[0mv\u001b[0m\u001b[0;34m,\u001b[0m \u001b[0mmsg\u001b[0m\u001b[0;34m)\u001b[0m\u001b[0;34m\u001b[0m\u001b[0m\n\u001b[1;32m    133\u001b[0m \u001b[0;34m\u001b[0m\u001b[0m\n",
      "\u001b[0;31mTypeError\u001b[0m: msa() takes 2 positional arguments but 3 were given"
     ]
    }
   ],
   "source": [
    "inference.max_sum(fg, x1)"
   ]
  }
 ],
 "metadata": {
  "kernelspec": {
   "display_name": "Python 3",
   "language": "python",
   "name": "python3"
  },
  "language_info": {
   "codemirror_mode": {
    "name": "ipython",
    "version": 3
   },
   "file_extension": ".py",
   "mimetype": "text/x-python",
   "name": "python",
   "nbconvert_exporter": "python",
   "pygments_lexer": "ipython3",
   "version": "3.6.3"
  }
 },
 "nbformat": 4,
 "nbformat_minor": 2
}
