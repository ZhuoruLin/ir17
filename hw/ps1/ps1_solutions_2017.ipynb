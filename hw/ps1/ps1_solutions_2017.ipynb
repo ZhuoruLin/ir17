{
 "cells": [
  {
   "cell_type": "markdown",
   "metadata": {},
   "source": [
    "PS 1 - Problem 5 Solutions <br>\n",
    "Inference and  Representation<br>\n",
    "NYU Center for Data Science<br>\n",
    "September 18, 2017"
   ]
  },
  {
   "cell_type": "code",
   "execution_count": 1,
   "metadata": {
    "collapsed": true
   },
   "outputs": [],
   "source": [
    "import numpy as np\n",
    "import matplotlib.pyplot as plt\n",
    "\n",
    "# Given a line from a data file, returns:\n",
    "# label - 0 for ham, 1 for spam\n",
    "# bag   - Dict of words -> their counts (only non-zero counts)\n",
    "def process_line(line):\n",
    "    tokens = line.split(' ')\n",
    "    label  = (tokens[1] == 'spam')\n",
    "    tokens = tokens[2:] # Ignore the email index, we don't need it\n",
    "    bag = {}\n",
    "    for i in range(len(tokens)//2): # For each word/count pair\n",
    "        word = tokens[2*i]\n",
    "        count = int(tokens[2*i + 1])\n",
    "        bag[word] = count\n",
    "    return (label, bag)\n",
    "\n",
    "# Given a data file, returns:\n",
    "# labels - Vector of 0/1 for ham/spam per email\n",
    "# bags   - List of bags of words per email\n",
    "# vocab  - Vector of overall words in the vocabulary\n",
    "def load_data(data_file):\n",
    "    labels = []\n",
    "    bags   = []\n",
    "    vocab  = set()\n",
    "    with open(data_file) as f:\n",
    "        line = f.readline()\n",
    "        while(line):\n",
    "            label,bag = process_line(line)\n",
    "            labels.append(label)\n",
    "            bags.append(bag)\n",
    "            vocab |= set(bag) # Like appending, but for sets\n",
    "            line = f.readline()\n",
    "    labels = np.array(labels)\n",
    "    vocab  = np.array(sorted(vocab))\n",
    "    return (labels,bags,vocab)\n",
    "\n",
    "# Given bags and a vocab, returns:\n",
    "# mat - A bag of words in matrix form (explicit zero values)\n",
    "#     - (Rows correspond to emails, columns to words)\n",
    "def bags_to_matrix(bags,vocab):\n",
    "    mat = np.zeros( (len(bags),len(vocab)) )\n",
    "    for i,bag in enumerate(bags):\n",
    "        for j,word in enumerate(vocab):\n",
    "            if word in bag:\n",
    "                mat[i,j] = bag[word]\n",
    "    return mat\n",
    "\n",
    "# Returns the m-estimates given:\n",
    "# X - Bag of words matrix (NxD)\n",
    "# y - Vector of true classes (binary vector)\n",
    "# m - Weight on the prior\n",
    "# p - Prior, either scalar or 1xD\n",
    "def cond_estimate(X,y,m,p):\n",
    "    cond = np.zeros( (2,X_train.shape[1]) )\n",
    "    ham  = X[y == 0]\n",
    "    spam = X[y == 1]\n",
    "    cond[0,:] = (ham.sum(axis=0) + m*p)/(ham.sum() + m)\n",
    "    cond[1,:] = (spam.sum(axis=0) + m*p)/(spam.sum() + m)\n",
    "    return cond\n",
    "\n",
    "# Returns the predictive accuracy using given marginals/conditionals\n",
    "def accuracy(X,y,marg,cond):\n",
    "    unnorm = np.log(marg) + X.dot(np.log(cond.T))\n",
    "    pred = unnorm.argmax(axis=1)\n",
    "    return np.mean(y == pred)\n",
    "\n"
   ]
  },
  {
   "cell_type": "code",
   "execution_count": 2,
   "metadata": {
    "collapsed": false,
    "raw_mimetype": "text/markdown"
   },
   "outputs": [],
   "source": [
    "#if __name__ == '__main__':\n",
    "    # Load the training data\n",
    "y_train,bags,vocab = load_data('data/train.txt')\n",
    "X_train = bags_to_matrix(bags,vocab)\n",
    "\n",
    "# Load the testing data\n",
    "# Remember that we want to use the training vocab for testing\n",
    "# (although in this case it doesn't matter since they're the same)\n",
    "y_test,bags,_ = load_data('data/test.txt')\n",
    "X_test = bags_to_matrix(bags,vocab)"
   ]
  },
  {
   "cell_type": "code",
   "execution_count": 3,
   "metadata": {
    "collapsed": false
   },
   "outputs": [
    {
     "name": "stdout",
     "output_type": "stream",
     "text": [
      "\n",
      "Question b\n",
      "The probability of spam is 0.574\n",
      "\n",
      "Question c\n",
      "The 5 most likely words for ham are: [ 'aaaaaaaaaaaaaaaaaaaaaaaaaaaaaaaaaaaaaaaaaaaaaaaaaaaaaaaaaaaaaaaaaaaaaaaaaaaa'\n",
      " 'enron' 'the' 'to' 'a']\n",
      "The 5 most likely words for spam are: ['enron' 'a' 'corp' 'the' 'to']\n",
      "\n",
      "Question d\n",
      "The accuracy is 0.902\n",
      "[0.90200000000000002, 0.90400000000000003, 0.90400000000000003, 0.871, 0.76500000000000001]\n"
     ]
    },
    {
     "data": {
      "image/png": "[encoded data removed]",
      "text/plain": [
       "<matplotlib.figure.Figure at 0x104710cf8>"
      ]
     },
     "metadata": {},
     "output_type": "display_data"
    }
   ],
   "source": [
    "# Compute the marginal probabilities of spam/ham\n",
    "p_spam = y_train.mean()\n",
    "print (\"\\nQuestion b\")\n",
    "print (\"The probability of spam is {:.3f}\".format(p_spam))\n",
    "marg = np.array([1 - p_spam, p_spam])\n",
    "\n",
    "# Compute the conditional probabilities of words given spam/ham\n",
    "m = len(vocab)\n",
    "p = 1.0/m\n",
    "cond = cond_estimate(X_train,y_train,m,p)\n",
    "inds = np.argsort(-cond,axis=1)\n",
    "print (\"\\nQuestion c\")\n",
    "print (\"The 5 most likely words for ham are: {}\".format(vocab[inds[0,:5]]))\n",
    "print (\"The 5 most likely words for spam are: {}\".format(vocab[inds[1,:5]]))\n",
    "\n",
    "# Compute the predictive accuracy using the current marg/cond\n",
    "acc = accuracy(X_test,y_test,marg,cond)\n",
    "print (\"\\nQuestion d\")\n",
    "print (\"The accuracy is {:.3f}\".format(acc))\n",
    "\n",
    "# Compute the accuracies when varying m\n",
    "ms = m*np.array([1,10,100,1000,10000])\n",
    "accs = []\n",
    "for m in ms:\n",
    "    cond = cond_estimate(X_train,y_train,m,p)\n",
    "    accs.append(accuracy(X_test,y_test,marg,cond))\n",
    "print (accs)\n",
    "plt.semilogx(ms,accs)\n",
    "plt.xlabel('m')\n",
    "plt.ylabel('Accuracy')\n",
    "plt.show()\n"
   ]
  },
  {
   "cell_type": "markdown",
   "metadata": {},
   "source": [
    "When $m$ is very large, we trust our empirical counts less and put more confidence into\n",
    "the prior probabilities (by adding more virtual examples). In contrast, when $m$ is small\n",
    "we assume that the empirical distribution is closer to the true conditional probabilities,\n",
    "so we put less weight into the virtual examples. At first, increasing $m$ smooths out some\n",
    "of the noise from the empirical counts and improves our accuracy, but the accuracy then\n",
    "falls off quickly as our conditional probabilities approach the prior (uniform\n",
    "distribution)."
   ]
  },
  {
   "cell_type": "markdown",
   "metadata": {},
   "source": [
    "In order to trick the classifier, we want to artificially increase the ratio between\n",
    "$P(document | ham)$ and $P(document | spam)$. We can do this by sending our original\n",
    "message, followed by many repetitions of words that are more likely to occur in ham than\n",
    "in spam."
   ]
  },
  {
   "cell_type": "markdown",
   "metadata": {},
   "source": [
    "<em> Acknowlegements</em> <br>\n",
    "This problem and solutions are taken from University of Washington's Course CSE 446 - Machine Learning (Spring 2015)  https://courses.cs.washington.edu/courses/cse446/15sp/assignments/3/q2.py  "
   ]
  },
  {
   "cell_type": "markdown",
   "metadata": {},
   "source": [
    "  "
   ]
  }
 ],
 "metadata": {
  "anaconda-cloud": {},
  "celltoolbar": "Raw Cell Format",
  "kernelspec": {
   "display_name": "Python [default]",
   "language": "python",
   "name": "python3"
  },
  "language_info": {
   "codemirror_mode": {
    "name": "ipython",
    "version": 3
   },
   "file_extension": ".py",
   "mimetype": "text/x-python",
   "name": "python",
   "nbconvert_exporter": "python",
   "pygments_lexer": "ipython3",
   "version": "3.5.2"
  }
 },
 "nbformat": 4,
 "nbformat_minor": 0
}
